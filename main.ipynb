{
 "cells": [
  {
   "cell_type": "code",
   "execution_count": 5,
   "metadata": {},
   "outputs": [],
   "source": [
    "import tensorflow as tf\n",
    "from tensorflow.keras import models,layers\n",
    "import numpy as np\n",
    "import matplotlib.pyplot as plt\n",
    "import pickle as pkl"
   ]
  },
  {
   "cell_type": "code",
   "execution_count": 6,
   "metadata": {},
   "outputs": [],
   "source": [
    "image_size= 200\n",
    "Batch_size=32\n",
    "epochs=50\n",
    "data_folder ='dataset'\n",
    "channels=3"
   ]
  },
  {
   "cell_type": "code",
   "execution_count": 7,
   "metadata": {},
   "outputs": [
    {
     "name": "stdout",
     "output_type": "stream",
     "text": [
      "Found 3064 files belonging to 3 classes.\n"
     ]
    }
   ],
   "source": [
    "dataset = tf.keras.preprocessing.image_dataset_from_directory(\n",
    "    data_folder,\n",
    "    shuffle=True,\n",
    "    image_size=(image_size,image_size),\n",
    "    batch_size=Batch_size\n",
    ")"
   ]
  },
  {
   "cell_type": "code",
   "execution_count": 8,
   "metadata": {},
   "outputs": [
    {
     "data": {
      "text/plain": [
       "['glioma', 'meningioma', 'pituitary']"
      ]
     },
     "execution_count": 8,
     "metadata": {},
     "output_type": "execute_result"
    }
   ],
   "source": [
    "class_names=dataset.class_names\n",
    "class_names"
   ]
  },
  {
   "cell_type": "code",
   "execution_count": 9,
   "metadata": {},
   "outputs": [],
   "source": [
    "def train_test_validate(ds,train=0.8,test=0.1,validate=0.1,shuffle=True,shuffle_size=1000):\n",
    "    ds_size= len(ds)\n",
    "    if shuffle:\n",
    "        ds = ds.shuffle(shuffle_size,seed=12)\n",
    "    train_size =int(ds_size*train)\n",
    "    val_size = int(ds_size*validate)\n",
    "    \n",
    "    train_set =ds.take(train_size)\n",
    "    val_set =ds.skip(train_size).take(val_size)\n",
    "    test_set =ds.skip(train_size).skip(val_size)\n",
    "    \n",
    "    return train_set,test_set,val_set\n",
    "    \n",
    "    "
   ]
  },
  {
   "cell_type": "code",
   "execution_count": 10,
   "metadata": {},
   "outputs": [],
   "source": [
    "train_ds,test_ds,val_ds = train_test_validate(dataset)"
   ]
  },
  {
   "cell_type": "code",
   "execution_count": 11,
   "metadata": {},
   "outputs": [
    {
     "data": {
      "text/plain": [
       "76"
      ]
     },
     "execution_count": 11,
     "metadata": {},
     "output_type": "execute_result"
    }
   ],
   "source": [
    "len(train_ds)"
   ]
  },
  {
   "cell_type": "code",
   "execution_count": 12,
   "metadata": {},
   "outputs": [],
   "source": [
    "train_ds =train_ds.cache().shuffle(1000).prefetch(buffer_size=tf.data.AUTOTUNE)\n",
    "test_ds =test_ds.cache().shuffle(1000).prefetch(buffer_size=tf.data.AUTOTUNE)\n",
    "val_ds =val_ds.cache().shuffle(1000).prefetch(buffer_size=tf.data.AUTOTUNE)\n"
   ]
  },
  {
   "cell_type": "code",
   "execution_count": 13,
   "metadata": {},
   "outputs": [],
   "source": [
    "resize_rescale=tf.keras.Sequential([\n",
    "    layers.experimental.preprocessing.Resizing(image_size,image_size),\n",
    "    layers.experimental.preprocessing.Rescaling(1.0/255)\n",
    "])"
   ]
  },
  {
   "cell_type": "code",
   "execution_count": 14,
   "metadata": {},
   "outputs": [],
   "source": [
    "data_augmentation= tf.keras.Sequential([\n",
    "    layers.experimental.preprocessing.RandomFlip('horizontal_and_vertical'),\n",
    "    layers.experimental.preprocessing.RandomRotation(0.2)\n",
    "])"
   ]
  },
  {
   "cell_type": "code",
   "execution_count": 15,
   "metadata": {},
   "outputs": [],
   "source": [
    "input_shape= (Batch_size,image_size,image_size, channels)\n",
    "n_classes=3\n",
    "model = models.Sequential([\n",
    "    resize_rescale,\n",
    "    data_augmentation,\n",
    "    layers.Conv2D(32,(3,3),activation='relu',input_shape=input_shape),\n",
    "    layers.MaxPool2D((2,2)),\n",
    "    layers.Conv2D(64,(3,3),activation='relu'),\n",
    "    layers.MaxPool2D((2,2)),\n",
    "    layers.Conv2D(64,(3,3),activation='relu'),\n",
    "    layers.MaxPool2D((2,2)),\n",
    "    layers.Conv2D(64,(3,3),activation='relu'),\n",
    "    layers.MaxPool2D((2,2)),\n",
    "    layers.Conv2D(64,(3,3),activation='relu'),\n",
    "    layers.MaxPool2D((2,2)),\n",
    "    layers.Conv2D(64,(3,3),activation='relu'),\n",
    "    layers.MaxPool2D((2,2)),\n",
    "    layers.Flatten(),\n",
    "    layers.Dense(64,activation='relu'),\n",
    "    layers.Dense(n_classes,activation='softmax')\n",
    "])\n",
    "model.build(input_shape=input_shape)"
   ]
  },
  {
   "cell_type": "code",
   "execution_count": 16,
   "metadata": {},
   "outputs": [
    {
     "name": "stdout",
     "output_type": "stream",
     "text": [
      "Model: \"sequential_2\"\n",
      "_________________________________________________________________\n",
      "Layer (type)                 Output Shape              Param #   \n",
      "=================================================================\n",
      "sequential (Sequential)      (32, 200, 200, 3)         0         \n",
      "_________________________________________________________________\n",
      "sequential_1 (Sequential)    (32, 200, 200, 3)         0         \n",
      "_________________________________________________________________\n",
      "conv2d (Conv2D)              (32, 198, 198, 32)        896       \n",
      "_________________________________________________________________\n",
      "max_pooling2d (MaxPooling2D) (32, 99, 99, 32)          0         \n",
      "_________________________________________________________________\n",
      "conv2d_1 (Conv2D)            (32, 97, 97, 64)          18496     \n",
      "_________________________________________________________________\n",
      "max_pooling2d_1 (MaxPooling2 (32, 48, 48, 64)          0         \n",
      "_________________________________________________________________\n",
      "conv2d_2 (Conv2D)            (32, 46, 46, 64)          36928     \n",
      "_________________________________________________________________\n",
      "max_pooling2d_2 (MaxPooling2 (32, 23, 23, 64)          0         \n",
      "_________________________________________________________________\n",
      "conv2d_3 (Conv2D)            (32, 21, 21, 64)          36928     \n",
      "_________________________________________________________________\n",
      "max_pooling2d_3 (MaxPooling2 (32, 10, 10, 64)          0         \n",
      "_________________________________________________________________\n",
      "conv2d_4 (Conv2D)            (32, 8, 8, 64)            36928     \n",
      "_________________________________________________________________\n",
      "max_pooling2d_4 (MaxPooling2 (32, 4, 4, 64)            0         \n",
      "_________________________________________________________________\n",
      "conv2d_5 (Conv2D)            (32, 2, 2, 64)            36928     \n",
      "_________________________________________________________________\n",
      "max_pooling2d_5 (MaxPooling2 (32, 1, 1, 64)            0         \n",
      "_________________________________________________________________\n",
      "flatten (Flatten)            (32, 64)                  0         \n",
      "_________________________________________________________________\n",
      "dense (Dense)                (32, 64)                  4160      \n",
      "_________________________________________________________________\n",
      "dense_1 (Dense)              (32, 3)                   195       \n",
      "=================================================================\n",
      "Total params: 171,459\n",
      "Trainable params: 171,459\n",
      "Non-trainable params: 0\n",
      "_________________________________________________________________\n"
     ]
    }
   ],
   "source": [
    "model.summary()"
   ]
  },
  {
   "cell_type": "code",
   "execution_count": 17,
   "metadata": {},
   "outputs": [],
   "source": [
    "model.compile(\n",
    "    optimizer='adam',\n",
    "    loss= tf.keras.losses.SparseCategoricalCrossentropy(from_logits=False),\n",
    "    metrics=['accuracy']\n",
    ")"
   ]
  },
  {
   "cell_type": "code",
   "execution_count": 18,
   "metadata": {},
   "outputs": [
    {
     "name": "stdout",
     "output_type": "stream",
     "text": [
      "Epoch 1/50\n",
      "76/76 [==============================] - 59s 724ms/step - loss: 1.0130 - accuracy: 0.4988 - val_loss: 0.7848 - val_accuracy: 0.6597\n",
      "Epoch 2/50\n",
      "76/76 [==============================] - 51s 675ms/step - loss: 0.8373 - accuracy: 0.6258 - val_loss: 0.8120 - val_accuracy: 0.6389\n",
      "Epoch 3/50\n",
      "76/76 [==============================] - 55s 720ms/step - loss: 0.7775 - accuracy: 0.6514 - val_loss: 0.7346 - val_accuracy: 0.6840\n",
      "Epoch 4/50\n",
      "76/76 [==============================] - 57s 748ms/step - loss: 0.7292 - accuracy: 0.6848 - val_loss: 0.6581 - val_accuracy: 0.7257\n",
      "Epoch 5/50\n",
      "76/76 [==============================] - 59s 781ms/step - loss: 0.6440 - accuracy: 0.7244 - val_loss: 0.5823 - val_accuracy: 0.7535\n",
      "Epoch 6/50\n",
      "76/76 [==============================] - 57s 756ms/step - loss: 0.6309 - accuracy: 0.7277 - val_loss: 0.5695 - val_accuracy: 0.7535\n",
      "Epoch 7/50\n",
      "76/76 [==============================] - 54s 713ms/step - loss: 0.5999 - accuracy: 0.7430 - val_loss: 0.6402 - val_accuracy: 0.7396\n",
      "Epoch 8/50\n",
      "76/76 [==============================] - 55s 727ms/step - loss: 0.6015 - accuracy: 0.7426 - val_loss: 0.5478 - val_accuracy: 0.7743\n",
      "Epoch 9/50\n",
      "76/76 [==============================] - 55s 720ms/step - loss: 0.5557 - accuracy: 0.7624 - val_loss: 0.5141 - val_accuracy: 0.7882\n",
      "Epoch 10/50\n",
      "76/76 [==============================] - 53s 700ms/step - loss: 0.5502 - accuracy: 0.7710 - val_loss: 0.5678 - val_accuracy: 0.7535\n",
      "Epoch 11/50\n",
      "76/76 [==============================] - 60s 785ms/step - loss: 0.5385 - accuracy: 0.7669 - val_loss: 0.4860 - val_accuracy: 0.7951\n",
      "Epoch 12/50\n",
      "76/76 [==============================] - 53s 698ms/step - loss: 0.5317 - accuracy: 0.7640 - val_loss: 0.5134 - val_accuracy: 0.7639\n",
      "Epoch 13/50\n",
      "76/76 [==============================] - 54s 714ms/step - loss: 0.5181 - accuracy: 0.7789 - val_loss: 0.4806 - val_accuracy: 0.8194\n",
      "Epoch 14/50\n",
      "76/76 [==============================] - 58s 763ms/step - loss: 0.5003 - accuracy: 0.7908 - val_loss: 0.4689 - val_accuracy: 0.8021\n",
      "Epoch 15/50\n",
      "76/76 [==============================] - 55s 723ms/step - loss: 0.4909 - accuracy: 0.7921 - val_loss: 0.4803 - val_accuracy: 0.7917\n",
      "Epoch 16/50\n",
      "76/76 [==============================] - 55s 727ms/step - loss: 0.4838 - accuracy: 0.7966 - val_loss: 0.5120 - val_accuracy: 0.7917\n",
      "Epoch 17/50\n",
      "76/76 [==============================] - 55s 718ms/step - loss: 0.4853 - accuracy: 0.7921 - val_loss: 0.5162 - val_accuracy: 0.7882\n",
      "Epoch 18/50\n",
      "76/76 [==============================] - 55s 719ms/step - loss: 0.4535 - accuracy: 0.8057 - val_loss: 0.4608 - val_accuracy: 0.8021\n",
      "Epoch 19/50\n",
      "76/76 [==============================] - 56s 740ms/step - loss: 0.4475 - accuracy: 0.8115 - val_loss: 0.4452 - val_accuracy: 0.8229\n",
      "Epoch 20/50\n",
      "76/76 [==============================] - 58s 770ms/step - loss: 0.4239 - accuracy: 0.8255 - val_loss: 0.4863 - val_accuracy: 0.8021\n",
      "Epoch 21/50\n",
      "76/76 [==============================] - 66s 871ms/step - loss: 0.4417 - accuracy: 0.8197 - val_loss: 0.4361 - val_accuracy: 0.8299\n",
      "Epoch 22/50\n",
      "76/76 [==============================] - 63s 832ms/step - loss: 0.4193 - accuracy: 0.8321 - val_loss: 0.4244 - val_accuracy: 0.8438\n",
      "Epoch 23/50\n",
      "76/76 [==============================] - 62s 813ms/step - loss: 0.3955 - accuracy: 0.8424 - val_loss: 0.4302 - val_accuracy: 0.8125\n",
      "Epoch 24/50\n",
      "76/76 [==============================] - 64s 844ms/step - loss: 0.3879 - accuracy: 0.8428 - val_loss: 0.4233 - val_accuracy: 0.8576\n",
      "Epoch 25/50\n",
      "76/76 [==============================] - 81s 1s/step - loss: 0.3644 - accuracy: 0.8585 - val_loss: 0.3969 - val_accuracy: 0.8472\n",
      "Epoch 26/50\n",
      "76/76 [==============================] - 143s 2s/step - loss: 0.3898 - accuracy: 0.8408 - val_loss: 0.4647 - val_accuracy: 0.8299\n",
      "Epoch 27/50\n",
      "76/76 [==============================] - 87s 1s/step - loss: 0.3604 - accuracy: 0.8589 - val_loss: 0.3750 - val_accuracy: 0.8333\n",
      "Epoch 28/50\n",
      "76/76 [==============================] - 104s 1s/step - loss: 0.3658 - accuracy: 0.8482 - val_loss: 0.4541 - val_accuracy: 0.7951\n",
      "Epoch 29/50\n",
      "76/76 [==============================] - 85s 1s/step - loss: 0.3681 - accuracy: 0.8531 - val_loss: 0.3762 - val_accuracy: 0.8507\n",
      "Epoch 30/50\n",
      "76/76 [==============================] - 61s 809ms/step - loss: 0.3228 - accuracy: 0.8783 - val_loss: 0.3783 - val_accuracy: 0.8438\n",
      "Epoch 31/50\n",
      "76/76 [==============================] - 63s 826ms/step - loss: 0.3240 - accuracy: 0.8729 - val_loss: 0.3244 - val_accuracy: 0.8438\n",
      "Epoch 32/50\n",
      "76/76 [==============================] - 61s 800ms/step - loss: 0.3454 - accuracy: 0.8634 - val_loss: 0.3976 - val_accuracy: 0.8472\n",
      "Epoch 33/50\n",
      "76/76 [==============================] - 64s 836ms/step - loss: 0.3160 - accuracy: 0.8767 - val_loss: 0.3243 - val_accuracy: 0.8681\n",
      "Epoch 34/50\n",
      "76/76 [==============================] - 60s 792ms/step - loss: 0.3342 - accuracy: 0.8655 - val_loss: 0.4140 - val_accuracy: 0.8333\n",
      "Epoch 35/50\n",
      "76/76 [==============================] - 57s 751ms/step - loss: 0.3078 - accuracy: 0.8816 - val_loss: 0.3474 - val_accuracy: 0.8646\n",
      "Epoch 36/50\n",
      "76/76 [==============================] - 58s 760ms/step - loss: 0.3128 - accuracy: 0.8820 - val_loss: 0.2919 - val_accuracy: 0.8854\n",
      "Epoch 37/50\n",
      "76/76 [==============================] - 60s 791ms/step - loss: 0.3070 - accuracy: 0.8779 - val_loss: 0.2910 - val_accuracy: 0.8889\n",
      "Epoch 38/50\n",
      "76/76 [==============================] - 62s 821ms/step - loss: 0.2794 - accuracy: 0.8866 - val_loss: 0.3164 - val_accuracy: 0.8819\n",
      "Epoch 39/50\n",
      "76/76 [==============================] - 57s 746ms/step - loss: 0.2869 - accuracy: 0.8828 - val_loss: 0.2748 - val_accuracy: 0.9028\n",
      "Epoch 40/50\n",
      "76/76 [==============================] - 63s 827ms/step - loss: 0.2956 - accuracy: 0.8828 - val_loss: 0.2811 - val_accuracy: 0.8924\n",
      "Epoch 41/50\n",
      "76/76 [==============================] - 64s 842ms/step - loss: 0.2632 - accuracy: 0.9035 - val_loss: 0.3091 - val_accuracy: 0.8611\n",
      "Epoch 42/50\n",
      "76/76 [==============================] - 62s 810ms/step - loss: 0.2697 - accuracy: 0.8882 - val_loss: 0.3058 - val_accuracy: 0.8889\n",
      "Epoch 43/50\n",
      "76/76 [==============================] - 60s 793ms/step - loss: 0.2805 - accuracy: 0.8927 - val_loss: 0.3326 - val_accuracy: 0.8646\n",
      "Epoch 44/50\n",
      "76/76 [==============================] - 59s 774ms/step - loss: 0.2541 - accuracy: 0.9002 - val_loss: 0.2641 - val_accuracy: 0.8889\n",
      "Epoch 45/50\n",
      "76/76 [==============================] - 60s 786ms/step - loss: 0.2451 - accuracy: 0.8998 - val_loss: 0.2669 - val_accuracy: 0.8958\n",
      "Epoch 46/50\n",
      "76/76 [==============================] - 60s 792ms/step - loss: 0.2603 - accuracy: 0.8927 - val_loss: 0.2939 - val_accuracy: 0.8785\n",
      "Epoch 47/50\n",
      "76/76 [==============================] - 60s 784ms/step - loss: 0.2575 - accuracy: 0.8998 - val_loss: 0.2672 - val_accuracy: 0.8993\n",
      "Epoch 48/50\n",
      "76/76 [==============================] - 62s 812ms/step - loss: 0.2476 - accuracy: 0.9022 - val_loss: 0.2575 - val_accuracy: 0.9028\n",
      "Epoch 49/50\n",
      "76/76 [==============================] - 62s 817ms/step - loss: 0.2210 - accuracy: 0.9150 - val_loss: 0.2626 - val_accuracy: 0.8924\n",
      "Epoch 50/50\n",
      "76/76 [==============================] - 61s 806ms/step - loss: 0.2268 - accuracy: 0.9154 - val_loss: 0.2915 - val_accuracy: 0.8854\n"
     ]
    }
   ],
   "source": [
    "with tf.device('/CPU:0'):\n",
    "    history= model.fit(\n",
    "            train_ds,\n",
    "            epochs=epochs,\n",
    "            batch_size=Batch_size,\n",
    "            verbose=1,\n",
    "            validation_data=val_ds\n",
    "        )"
   ]
  },
  {
   "cell_type": "code",
   "execution_count": 19,
   "metadata": {},
   "outputs": [
    {
     "name": "stdout",
     "output_type": "stream",
     "text": [
      "11/11 [==============================] - 30s 187ms/step - loss: 0.2769 - accuracy: 0.9119\n"
     ]
    }
   ],
   "source": [
    "with tf.device('/CPU:0'):\n",
    "    test_score = model.evaluate(test_ds)\n",
    "    test_score\n"
   ]
  },
  {
   "cell_type": "code",
   "execution_count": 20,
   "metadata": {},
   "outputs": [
    {
     "name": "stdout",
     "output_type": "stream",
     "text": [
      "INFO:tensorflow:Assets written to: ./model/1\\assets\n"
     ]
    }
   ],
   "source": [
    "model_version=1\n",
    "with tf.device('/CPU:0'):\n",
    "    model.save(f\"./model/{model_version}\")"
   ]
  },
  {
   "cell_type": "code",
   "execution_count": 22,
   "metadata": {},
   "outputs": [
    {
     "data": {
      "text/plain": [
       "{'verbose': 1, 'epochs': 50, 'steps': 76}"
      ]
     },
     "execution_count": 22,
     "metadata": {},
     "output_type": "execute_result"
    }
   ],
   "source": [
    "history.params"
   ]
  },
  {
   "cell_type": "code",
   "execution_count": 23,
   "metadata": {},
   "outputs": [
    {
     "data": {
      "text/plain": [
       "dict_keys(['loss', 'accuracy', 'val_loss', 'val_accuracy'])"
      ]
     },
     "execution_count": 23,
     "metadata": {},
     "output_type": "execute_result"
    }
   ],
   "source": [
    "history.history.keys()"
   ]
  },
  {
   "cell_type": "code",
   "execution_count": 24,
   "metadata": {},
   "outputs": [],
   "source": [
    "acc =history.history['accuracy']\n",
    "val_acc=history.history['val_accuracy']\n",
    "\n",
    "loss=history.history['loss']\n",
    "val_loss = history.history['val_loss']"
   ]
  },
  {
   "cell_type": "code",
   "execution_count": 30,
   "metadata": {},
   "outputs": [
    {
     "data": {
      "text/plain": [
       "Text(0.5, 1.0, 'Training & Validation loss')"
      ]
     },
     "execution_count": 30,
     "metadata": {},
     "output_type": "execute_result"
    },
    {
     "data": {
      "image/png": "[encoded data removed]",
      "text/plain": [
       "<Figure size 720x288 with 2 Axes>"
      ]
     },
     "metadata": {
      "needs_background": "light"
     },
     "output_type": "display_data"
    }
   ],
   "source": [
    "plt.figure(figsize=(10,4))\n",
    "plt.subplot(1,2,1)\n",
    "plt.plot(range(epochs),acc,label='Training accuracy')\n",
    "plt.plot(range(epochs),val_acc,label='Validation accuracy')\n",
    "plt.legend(loc='lower right')\n",
    "plt.title('Training & Validation Accuracy')\n",
    "\n",
    "plt.subplot(1,2,2)\n",
    "plt.plot(range(epochs),loss,label='Training Loss')\n",
    "plt.plot(range(epochs),val_loss,label='Validation Loss')\n",
    "plt.legend(loc='upper right')\n",
    "plt.title('Training & Validation loss')"
   ]
  },
  {
   "cell_type": "code",
   "execution_count": null,
   "metadata": {},
   "outputs": [],
   "source": []
  }
 ],
 "metadata": {
  "interpreter": {
   "hash": "1381cda20fd746df8c8c339c38269f44ce61a2aefc77fc71f6092a3359510ca9"
  },
  "kernelspec": {
   "display_name": "Python 3.9.1 64-bit",
   "language": "python",
   "name": "python3"
  },
  "language_info": {
   "codemirror_mode": {
    "name": "ipython",
    "version": 3
   },
   "file_extension": ".py",
   "mimetype": "text/x-python",
   "name": "python",
   "nbconvert_exporter": "python",
   "pygments_lexer": "ipython3",
   "version": "3.9.1"
  },
  "orig_nbformat": 4
 },
 "nbformat": 4,
 "nbformat_minor": 2
}
